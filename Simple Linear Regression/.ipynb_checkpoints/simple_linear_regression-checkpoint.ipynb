{
 "cells": [
  {
   "cell_type": "code",
   "execution_count": 63,
   "metadata": {},
   "outputs": [],
   "source": [
    "import numpy as np\n",
    "import seaborn as sns\n",
    "import matplotlib.pyplot as plt\n",
    "import pandas as pd\n",
    "from sklearn.model_selection import train_test_split\n",
    "from sklearn import linear_model\n",
    "from sklearn import metrics"
   ]
  },
  {
   "cell_type": "code",
   "execution_count": 64,
   "metadata": {},
   "outputs": [],
   "source": [
    "salary_df = pd.read_csv('Salary_Data.csv', index_col=False)"
   ]
  },
  {
   "cell_type": "code",
   "execution_count": 65,
   "metadata": {},
   "outputs": [
    {
     "data": {
      "text/plain": [
       "(30, 2)"
      ]
     },
     "execution_count": 65,
     "metadata": {},
     "output_type": "execute_result"
    }
   ],
   "source": [
    "salary_df.shape"
   ]
  },
  {
   "cell_type": "code",
   "execution_count": 66,
   "metadata": {},
   "outputs": [
    {
     "data": {
      "text/html": [
       "<div>\n",
       "<style scoped>\n",
       "    .dataframe tbody tr th:only-of-type {\n",
       "        vertical-align: middle;\n",
       "    }\n",
       "\n",
       "    .dataframe tbody tr th {\n",
       "        vertical-align: top;\n",
       "    }\n",
       "\n",
       "    .dataframe thead th {\n",
       "        text-align: right;\n",
       "    }\n",
       "</style>\n",
       "<table border=\"1\" class=\"dataframe\">\n",
       "  <thead>\n",
       "    <tr style=\"text-align: right;\">\n",
       "      <th></th>\n",
       "      <th>YearsExperience</th>\n",
       "      <th>Salary</th>\n",
       "    </tr>\n",
       "  </thead>\n",
       "  <tbody>\n",
       "    <tr>\n",
       "      <th>0</th>\n",
       "      <td>1.1</td>\n",
       "      <td>39343.0</td>\n",
       "    </tr>\n",
       "    <tr>\n",
       "      <th>1</th>\n",
       "      <td>1.3</td>\n",
       "      <td>46205.0</td>\n",
       "    </tr>\n",
       "    <tr>\n",
       "      <th>2</th>\n",
       "      <td>1.5</td>\n",
       "      <td>37731.0</td>\n",
       "    </tr>\n",
       "    <tr>\n",
       "      <th>3</th>\n",
       "      <td>2.0</td>\n",
       "      <td>43525.0</td>\n",
       "    </tr>\n",
       "    <tr>\n",
       "      <th>4</th>\n",
       "      <td>2.2</td>\n",
       "      <td>39891.0</td>\n",
       "    </tr>\n",
       "  </tbody>\n",
       "</table>\n",
       "</div>"
      ],
      "text/plain": [
       "   YearsExperience   Salary\n",
       "0              1.1  39343.0\n",
       "1              1.3  46205.0\n",
       "2              1.5  37731.0\n",
       "3              2.0  43525.0\n",
       "4              2.2  39891.0"
      ]
     },
     "execution_count": 66,
     "metadata": {},
     "output_type": "execute_result"
    }
   ],
   "source": [
    "salary_df.head()"
   ]
  },
  {
   "cell_type": "code",
   "execution_count": 67,
   "metadata": {},
   "outputs": [],
   "source": [
    "salary_df.columns = [\"years\", \"salary\"]"
   ]
  },
  {
   "cell_type": "code",
   "execution_count": 68,
   "metadata": {},
   "outputs": [
    {
     "data": {
      "text/html": [
       "<div>\n",
       "<style scoped>\n",
       "    .dataframe tbody tr th:only-of-type {\n",
       "        vertical-align: middle;\n",
       "    }\n",
       "\n",
       "    .dataframe tbody tr th {\n",
       "        vertical-align: top;\n",
       "    }\n",
       "\n",
       "    .dataframe thead th {\n",
       "        text-align: right;\n",
       "    }\n",
       "</style>\n",
       "<table border=\"1\" class=\"dataframe\">\n",
       "  <thead>\n",
       "    <tr style=\"text-align: right;\">\n",
       "      <th></th>\n",
       "      <th>years</th>\n",
       "      <th>salary</th>\n",
       "    </tr>\n",
       "  </thead>\n",
       "  <tbody>\n",
       "    <tr>\n",
       "      <th>0</th>\n",
       "      <td>1.1</td>\n",
       "      <td>39343.0</td>\n",
       "    </tr>\n",
       "    <tr>\n",
       "      <th>1</th>\n",
       "      <td>1.3</td>\n",
       "      <td>46205.0</td>\n",
       "    </tr>\n",
       "    <tr>\n",
       "      <th>2</th>\n",
       "      <td>1.5</td>\n",
       "      <td>37731.0</td>\n",
       "    </tr>\n",
       "    <tr>\n",
       "      <th>3</th>\n",
       "      <td>2.0</td>\n",
       "      <td>43525.0</td>\n",
       "    </tr>\n",
       "    <tr>\n",
       "      <th>4</th>\n",
       "      <td>2.2</td>\n",
       "      <td>39891.0</td>\n",
       "    </tr>\n",
       "  </tbody>\n",
       "</table>\n",
       "</div>"
      ],
      "text/plain": [
       "   years   salary\n",
       "0    1.1  39343.0\n",
       "1    1.3  46205.0\n",
       "2    1.5  37731.0\n",
       "3    2.0  43525.0\n",
       "4    2.2  39891.0"
      ]
     },
     "execution_count": 68,
     "metadata": {},
     "output_type": "execute_result"
    }
   ],
   "source": [
    "salary_df.head()"
   ]
  },
  {
   "cell_type": "code",
   "execution_count": 69,
   "metadata": {},
   "outputs": [
    {
     "data": {
      "image/png": "[encoded data removed]",
      "text/plain": [
       "<Figure size 432x288 with 1 Axes>"
      ]
     },
     "metadata": {
      "needs_background": "light"
     },
     "output_type": "display_data"
    }
   ],
   "source": [
    "plt.plot(salary_df['years'], salary_df['salary'], 'ro')\n",
    "plt.ylabel('Salary')\n",
    "plt.xlabel('Years of Experience')\n",
    "plt.show()"
   ]
  },
  {
   "cell_type": "code",
   "execution_count": 70,
   "metadata": {},
   "outputs": [
    {
     "data": {
      "text/plain": [
       "<seaborn.axisgrid.JointGrid at 0x149c4e342e8>"
      ]
     },
     "execution_count": 70,
     "metadata": {},
     "output_type": "execute_result"
    },
    {
     "data": {
      "image/png": "[encoded data removed]",
      "text/plain": [
       "<Figure size 432x432 with 3 Axes>"
      ]
     },
     "metadata": {
      "needs_background": "light"
     },
     "output_type": "display_data"
    }
   ],
   "source": [
    "sns.jointplot(x=salary_df['years'], y=salary_df['salary'], data=salary_df, kind='reg')"
   ]
  },
  {
   "cell_type": "code",
   "execution_count": 71,
   "metadata": {},
   "outputs": [],
   "source": [
    "x_train, x_test, y_train, y_test = train_test_split(salary_df['years'], salary_df['salary'], random_state=42)\n",
    "x_train = np.reshape(x_train.values, (-1, 1))\n",
    "x_test = np.reshape(x_test.values, (-1, 1))\n",
    "y_train = np.reshape(y_train.values, (-1, 1))\n",
    "y_test = np.reshape(y_test.values, (-1, 1))"
   ]
  },
  {
   "cell_type": "markdown",
   "metadata": {},
   "source": [
    "## Linear Regression Using SKLearn"
   ]
  },
  {
   "cell_type": "code",
   "execution_count": 72,
   "metadata": {},
   "outputs": [
    {
     "data": {
      "text/plain": [
       "LinearRegression()"
      ]
     },
     "execution_count": 72,
     "metadata": {},
     "output_type": "execute_result"
    }
   ],
   "source": [
    "cls = linear_model.LinearRegression()\n",
    "cls.fit(x_train, y_train)"
   ]
  },
  {
   "cell_type": "code",
   "execution_count": 73,
   "metadata": {},
   "outputs": [],
   "source": [
    "prediction = cls.predict(x_test)"
   ]
  },
  {
   "cell_type": "code",
   "execution_count": 74,
   "metadata": {},
   "outputs": [
    {
     "name": "stdout",
     "output_type": "stream",
     "text": [
      "Co-efficient of linear regression [[9371.0160797]]\n"
     ]
    }
   ],
   "source": [
    "print('Co-efficient of linear regression',cls.coef_)"
   ]
  },
  {
   "cell_type": "code",
   "execution_count": 75,
   "metadata": {},
   "outputs": [
    {
     "name": "stdout",
     "output_type": "stream",
     "text": [
      "Intercept of linear regression model [25478.127436]\n"
     ]
    }
   ],
   "source": [
    "print('Intercept of linear regression model',cls.intercept_)"
   ]
  },
  {
   "cell_type": "code",
   "execution_count": 76,
   "metadata": {},
   "outputs": [
    {
     "name": "stdout",
     "output_type": "stream",
     "text": [
      "Mean Square Error 38802588.99247065\n"
     ]
    }
   ],
   "source": [
    "print('Mean Square Error', metrics.mean_squared_error(y_test, prediction))"
   ]
  },
  {
   "cell_type": "code",
   "execution_count": 77,
   "metadata": {},
   "outputs": [
    {
     "data": {
      "image/png": "[encoded data removed]",
      "text/plain": [
       "<Figure size 432x288 with 1 Axes>"
      ]
     },
     "metadata": {
      "needs_background": "light"
     },
     "output_type": "display_data"
    }
   ],
   "source": [
    "#Model Regression line on test set\n",
    "#scatter is to show all the test variable\n",
    "plt.scatter(x_test, y_test)\n",
    "#draw the x_test and predicted value\n",
    "plt.plot(x_test, prediction, color='red', linewidth=3)\n",
    "plt.xlabel('Salary')\n",
    "plt.ylabel('Years of Experience')\n",
    "plt.title('Linear Regression')\n",
    "plt.show()"
   ]
  },
  {
   "cell_type": "code",
   "execution_count": 78,
   "metadata": {},
   "outputs": [
    {
     "data": {
      "text/plain": [
       "Text(0, 0.5, 'Residual')"
      ]
     },
     "execution_count": 78,
     "metadata": {},
     "output_type": "execute_result"
    },
    {
     "data": {
      "image/png": "[encoded data removed]",
      "text/plain": [
       "<Figure size 432x288 with 1 Axes>"
      ]
     },
     "metadata": {
      "needs_background": "light"
     },
     "output_type": "display_data"
    }
   ],
   "source": [
    "#Residual plot\n",
    "plt.scatter(cls.predict(x_test), cls.predict(x_test) - y_test, c='g', s = 30)\n",
    "plt.hlines(y=0, xmin=0, xmax=150000)\n",
    "plt.title('Residual plot')\n",
    "plt.ylabel('Residual')"
   ]
  },
  {
   "cell_type": "code",
   "execution_count": 79,
   "metadata": {},
   "outputs": [],
   "source": [
    "test = []\n",
    "for i in range(1, 21):\n",
    "    col = []\n",
    "    col.append(i)\n",
    "    test.append(col)"
   ]
  },
  {
   "cell_type": "code",
   "execution_count": 80,
   "metadata": {},
   "outputs": [],
   "source": [
    "test_prediction = cls.predict(test)"
   ]
  },
  {
   "cell_type": "code",
   "execution_count": 81,
   "metadata": {},
   "outputs": [],
   "source": [
    "def get_from_2d(arr):\n",
    "    res = []\n",
    "    for i in arr:\n",
    "        for j in i:\n",
    "            res.append(j)\n",
    "    return res"
   ]
  },
  {
   "cell_type": "code",
   "execution_count": 82,
   "metadata": {},
   "outputs": [],
   "source": [
    "y_prediction = get_from_2d(test_prediction)"
   ]
  },
  {
   "cell_type": "code",
   "execution_count": 83,
   "metadata": {},
   "outputs": [],
   "source": [
    "x_prediction = get_from_2d(test)"
   ]
  },
  {
   "cell_type": "code",
   "execution_count": 84,
   "metadata": {},
   "outputs": [
    {
     "data": {
      "image/png": "[encoded data removed]",
      "text/plain": [
       "<Figure size 432x288 with 1 Axes>"
      ]
     },
     "metadata": {
      "needs_background": "light"
     },
     "output_type": "display_data"
    }
   ],
   "source": [
    "plt.scatter(x_test, y_test)\n",
    "plt.plot(x_prediction, y_prediction, color='blue', linewidth=3)\n",
    "plt.ylabel('Salary')\n",
    "plt.xlabel('Years of Experience')\n",
    "plt.title('Prediction Result')\n",
    "plt.show()"
   ]
  },
  {
   "cell_type": "code",
   "execution_count": 85,
   "metadata": {},
   "outputs": [
    {
     "data": {
      "text/plain": [
       "array([[25478.127436]])"
      ]
     },
     "execution_count": 85,
     "metadata": {},
     "output_type": "execute_result"
    }
   ],
   "source": [
    "cls.predict([[0]])"
   ]
  },
  {
   "cell_type": "markdown",
   "metadata": {},
   "source": [
    "## Linear Regression Using Normal Equation"
   ]
  },
  {
   "cell_type": "markdown",
   "metadata": {},
   "source": [
    "### Normal Equation\n",
    "Normal equation adalah salah satu cara untuk mendapatkan nilai slope dan intercept pada linear regresi\n",
    "<br>\n",
    "Persamaan garis fit terhadap data dapat dinyatakan dalam\n",
    "<br>\n",
    "y=X.b\n",
    "<br>\n",
    "X^T.y=X^T.X.b\n",
    "<br>\n",
    "b = (X^T.X)^-1.X^T.y"
   ]
  },
  {
   "cell_type": "code",
   "execution_count": 86,
   "metadata": {},
   "outputs": [],
   "source": [
    "def normal_function(x_train, y_train):\n",
    "    n_data = x_train.shape[0]\n",
    "    bias = np.ones((n_data, 1))\n",
    "    x_train_b = np.append(bias, x_train, axis=1)\n",
    "    \n",
    "    theta_1 = np.linalg.inv(np.dot(x_train_b.T, x_train_b))\n",
    "    theta_2 = np.dot(theta_1, x_train_b.T)\n",
    "    theta = np.dot(theta_2, y_train)\n",
    "    \n",
    "    return theta"
   ]
  },
  {
   "cell_type": "markdown",
   "metadata": {},
   "source": [
    "### Penjelasan\n",
    "#### - Mengapa x_train append dengan matrix satu?\n",
    "Karena, bentuk b adalah matrix \\[b_0, b_1\\]\\. Untuk mendapatkan nilai prediksi y, caranya adalah b\\_0 + x\\*b\\_1.\n",
    "<br>\n",
    "Oleh karena itu, maka diappend matrix 1 di awal\n",
    "#### - theta_1 adalah (X^T.X)^-1\n",
    "#### - theta_2 adalah theta_1.X^T\n",
    "#### - theta adalah theta_2.y"
   ]
  },
  {
   "cell_type": "code",
   "execution_count": 87,
   "metadata": {},
   "outputs": [],
   "source": [
    "b = normal_function(x_train, y_train)"
   ]
  },
  {
   "cell_type": "code",
   "execution_count": 88,
   "metadata": {},
   "outputs": [
    {
     "name": "stdout",
     "output_type": "stream",
     "text": [
      "[[25478.127436 ]\n",
      " [ 9371.0160797]]\n"
     ]
    }
   ],
   "source": [
    "print(b)"
   ]
  },
  {
   "cell_type": "markdown",
   "metadata": {},
   "source": [
    "#### Nilai slope dan intercept yang didapat sama dengan cara yang menggunakan sklearn"
   ]
  },
  {
   "cell_type": "code",
   "execution_count": 89,
   "metadata": {},
   "outputs": [],
   "source": [
    "x_test_normal = np.append(np.ones((x_test.shape[0], 1)), x_test, axis=1)"
   ]
  },
  {
   "cell_type": "code",
   "execution_count": 90,
   "metadata": {},
   "outputs": [],
   "source": [
    "y_test_normal = x_test_normal.dot(b)"
   ]
  },
  {
   "cell_type": "code",
   "execution_count": 91,
   "metadata": {},
   "outputs": [
    {
     "name": "stdout",
     "output_type": "stream",
     "text": [
      "Mean Square Error 38802588.99247047\n"
     ]
    }
   ],
   "source": [
    "print('Mean Square Error', metrics.mean_squared_error(y_test, y_test_normal))"
   ]
  },
  {
   "cell_type": "code",
   "execution_count": 102,
   "metadata": {},
   "outputs": [
    {
     "data": {
      "image/png": "[encoded data removed]",
      "text/plain": [
       "<Figure size 432x288 with 1 Axes>"
      ]
     },
     "metadata": {
      "needs_background": "light"
     },
     "output_type": "display_data"
    }
   ],
   "source": [
    "plt.scatter(x_test, y_test)\n",
    "plt.plot(x_test, y_test_normal, color='blue', linewidth=3)\n",
    "plt.xlabel('Years of Experience')\n",
    "plt.ylabel('Salary')\n",
    "plt.show()"
   ]
  },
  {
   "cell_type": "markdown",
   "metadata": {},
   "source": [
    "## Linear Regression Using Gradient Descent"
   ]
  },
  {
   "cell_type": "markdown",
   "metadata": {},
   "source": [
    "Tujuan dari linear regression adalah untuk menentukan garis paling optimal. Optimal yang dimaksud adalah nilai error antara nilai prediksi dan nilai yang benar adalah minimum. Fungsi untuk menentukan nilai error pada suatu garis dapat diketahui (Cari di internet, gabisa ngetik latex disini). Untuk mendapatkan nilai minimum, maka dapat dilakukan penurunan dengan satu variabel peubah, yang masing masing peubah adalah slobe (m) dan intercept (b). Ditentukan pula nilai learning rate untuk menentukan tingkat loncatan tiap iterasi. Digunakan nilai yang kecil untuk efektivitas algoritma."
   ]
  },
  {
   "cell_type": "code",
   "execution_count": 93,
   "metadata": {},
   "outputs": [],
   "source": [
    "def mse_calc(slope, intercept, x_test, y_test):\n",
    "    tot_error = 0\n",
    "    prediction = []\n",
    "    for i in range(len(x_test)):\n",
    "        prediction.append(slope*x_test[i]+intercept)\n",
    "        tot_error += (y_test[i] - (slope*x_test[i]+intercept)) ** 2\n",
    "    \n",
    "    error = tot_error/float(len(x_test))\n",
    "    return error, prediction"
   ]
  },
  {
   "cell_type": "code",
   "execution_count": 94,
   "metadata": {},
   "outputs": [],
   "source": [
    "def grad_descent(s_slope, s_intercept, l_rate, iter_val, x_train, y_train):\n",
    "    for i in range(iter_val):\n",
    "        int_intercept = 0\n",
    "        int_slope = 0\n",
    "        n_data = float(len(x_train))\n",
    "\n",
    "        for i in range((len(x_train))):\n",
    "            int_intercept += - (2/n_data) * (y_train[i] - ((s_slope*x_train[i]) + s_intercept))\n",
    "            int_slope += - (2/n_data) * x_train[i] * (y_train[i] - ((s_slope*x_train[i]) + s_intercept))\n",
    "\n",
    "        final_slope = s_slope - (l_rate * int_slope)\n",
    "        final_intercept = s_intercept - (l_rate * int_intercept)\n",
    "        s_slope = final_slope\n",
    "        s_intercept = final_intercept\n",
    "    \n",
    "    return s_slope, s_intercept"
   ]
  },
  {
   "cell_type": "code",
   "execution_count": 95,
   "metadata": {},
   "outputs": [],
   "source": [
    "init_slope = 0\n",
    "init_intercept = 0\n",
    "l_rate = 0.0001\n",
    "iter_val = 1000\n",
    "\n",
    "grad_slope, grad_intercept = grad_descent(init_slope, init_intercept, l_rate, iter_val, x_train, y_train)"
   ]
  },
  {
   "cell_type": "code",
   "execution_count": 96,
   "metadata": {},
   "outputs": [],
   "source": [
    "error, prediction_grad = mse_calc(grad_slope, grad_intercept, x_test, y_test)"
   ]
  },
  {
   "cell_type": "code",
   "execution_count": 97,
   "metadata": {},
   "outputs": [
    {
     "name": "stdout",
     "output_type": "stream",
     "text": [
      "Co-efficient of linear regression [12921.80922342]\n"
     ]
    }
   ],
   "source": [
    "print('Co-efficient of linear regression', grad_slope)"
   ]
  },
  {
   "cell_type": "code",
   "execution_count": 98,
   "metadata": {},
   "outputs": [
    {
     "name": "stdout",
     "output_type": "stream",
     "text": [
      "Intercept of linear regression model [3155.33926896]\n"
     ]
    }
   ],
   "source": [
    "print('Intercept of linear regression model', grad_intercept)"
   ]
  },
  {
   "cell_type": "code",
   "execution_count": 99,
   "metadata": {},
   "outputs": [
    {
     "name": "stdout",
     "output_type": "stream",
     "text": [
      "Mean Square Error [1.29209327e+08]\n"
     ]
    }
   ],
   "source": [
    "print('Mean Square Error', error)"
   ]
  },
  {
   "cell_type": "code",
   "execution_count": 100,
   "metadata": {},
   "outputs": [
    {
     "data": {
      "image/png": "[encoded data removed]",
      "text/plain": [
       "<Figure size 432x288 with 1 Axes>"
      ]
     },
     "metadata": {
      "needs_background": "light"
     },
     "output_type": "display_data"
    }
   ],
   "source": [
    "plt.scatter(x_test, y_test)\n",
    "plt.plot(x_test, prediction_grad, color='blue', linewidth=3)\n",
    "plt.xlabel('Years of Experience')\n",
    "plt.ylabel('Salary')\n",
    "plt.show()"
   ]
  },
  {
   "cell_type": "markdown",
   "metadata": {},
   "source": [
    "### Daftar Pustaka:\n",
    "- https://towardsdatascience.com/linear-regression-detailed-view-ea73175f6e86\n",
    "- https://medium.com/@saishruthi.tn/math-behind-gradient-descent-4d66eb96d68d\n",
    "- https://www.kaggle.com/karthickveerakumar/salary-data-simple-linear-regression\n",
    "- https://github.com/SSaishruthi/Linear_Regression_Detailed_Implementation/blob/master/Linear_Regression.ipynb\n",
    "- https://github.com/SSaishruthi/Math_behind_Gradient_Descent/blob/master/Gradient_descent.ipynb"
   ]
  }
 ],
 "metadata": {
  "kernelspec": {
   "display_name": "Python 3",
   "language": "python",
   "name": "python3"
  },
  "language_info": {
   "codemirror_mode": {
    "name": "ipython",
    "version": 3
   },
   "file_extension": ".py",
   "mimetype": "text/x-python",
   "name": "python",
   "nbconvert_exporter": "python",
   "pygments_lexer": "ipython3",
   "version": "3.7.3"
  }
 },
 "nbformat": 4,
 "nbformat_minor": 4
}
